{
 "cells": [
  {
   "cell_type": "code",
   "execution_count": 1,
   "metadata": {
    "collapsed": true
   },
   "outputs": [],
   "source": [
    "import scipy as sp\n",
    "import numpy as np\n",
    "from sklearn import decomposition\n",
    "from sklearn import cluster\n",
    "import math"
   ]
  },
  {
   "cell_type": "code",
   "execution_count": 2,
   "metadata": {
    "collapsed": false
   },
   "outputs": [],
   "source": [
    "%run load_dino sulcus-new-5-3-134.out"
   ]
  },
  {
   "cell_type": "code",
   "execution_count": 3,
   "metadata": {
    "collapsed": false
   },
   "outputs": [
    {
     "data": {
      "text/plain": [
       "(18790, 795)"
      ]
     },
     "execution_count": 3,
     "metadata": {},
     "output_type": "execute_result"
    }
   ],
   "source": [
    "np.shape(paths)\n",
    "np.shape(paths)[0]\n",
    "filtered_data = filter_paths(dinodata, .007)\n",
    "indices = filtered_data[:,0]\n",
    "paths = filtered_data[:,1:]\n",
    "reshape_to_distances(paths)\n",
    "np.shape(paths)"
   ]
  },
  {
   "cell_type": "code",
   "execution_count": 6,
   "metadata": {
    "collapsed": false
   },
   "outputs": [],
   "source": [
    "pca = decomposition.PCA(5)\n",
    "m = pca.fit_transform(repaths)"
   ]
  },
  {
   "cell_type": "code",
   "execution_count": null,
   "metadata": {
    "collapsed": false
   },
   "outputs": [],
   "source": [
    "sum([  0.77505258,  0.11530088,  0.09391347,  0.00602776,  0.0037433\n",
    "    ])"
   ]
  },
  {
   "cell_type": "code",
   "execution_count": 7,
   "metadata": {
    "collapsed": false
   },
   "outputs": [
    {
     "data": {
      "text/plain": [
       "0.96898418991138435"
      ]
     },
     "execution_count": 7,
     "metadata": {},
     "output_type": "execute_result"
    }
   ],
   "source": [
    "sum(pca.explained_variance_ratio_)"
   ]
  },
  {
   "cell_type": "code",
   "execution_count": 4,
   "metadata": {
    "collapsed": false
   },
   "outputs": [],
   "source": [
    "def rebase_paths(paths, number_of_steps = 100):\n",
    "    newpaths = np.empty((np.shape(paths)[0], 3 * number_of_steps))\n",
    "    for i in range(np.shape(paths)[0]):\n",
    "        if i % 1000 == 0:\n",
    "            print(i)\n",
    "        newpaths[i,:] = rebase_path(paths[i,:], number_of_steps)\n",
    "    return newpaths\n",
    "\n",
    "#Converts a path from list of points (at timesteps) to list of points (evenly distributed along the path)\n",
    "def rebase_path(path, number_of_steps = 100):\n",
    "    total_length = get_path_length(path)\n",
    "    timesteps = int(math.floor(np.shape(paths)[1] / 3))\n",
    "    newpath = np.zeros(number_of_steps * 3)\n",
    "    current_timestep = 0\n",
    "    current_distance = 0\n",
    "    next_timestep_distance = 0\n",
    "    last_timestep_distance = 0\n",
    "    for i in range(number_of_steps):\n",
    "        target_distance = i * 1.0 / number_of_steps * total_length\n",
    "        next_timestep = current_timestep + 1\n",
    "        #First we check to see which 2 points it's in between (current_timestep and next_timestep)\n",
    "        while next_timestep_distance < target_distance:\n",
    "            j = next_timestep\n",
    "            if (j >= timesteps - 1):\n",
    "                break\n",
    "            next_timestep +=1\n",
    "            last_timestep_distance = next_timestep_distance\n",
    "            dx = path[3*j+3] - path[3*j]\n",
    "            dy = path[3*j+4] - path[3*j+1]\n",
    "            dz = path[3*j+5] - path[3*j+2]\n",
    "            next_timestep_distance += math.sqrt(dx ** 2 + dy ** 2 + dz ** 2)\n",
    "        current_timestep = next_timestep - 1\n",
    "        #Now figure out how far between them it is\n",
    "        j = current_timestep\n",
    "        ax = path[3 * j]\n",
    "        ay = path[3 * j + 1]\n",
    "        az = path[3 * j + 2]\n",
    "        bx = path[3 * j + 3]\n",
    "        by = path[3 * j + 4]\n",
    "        bz = path[3 * j + 5]\n",
    "        try:\n",
    "            lerp_ratio = (target_distance - last_timestep_distance) / (next_timestep_distance - last_timestep_distance)\n",
    "        except:\n",
    "            lerp_ratio = 0\n",
    "        lerp_ratio = np.clip(lerp_ratio, 0, 1)\n",
    "        newpath[3 * i] = (1 - lerp_ratio) * ax + lerp_ratio * bx\n",
    "        newpath[3 * i + 1] = (1 - lerp_ratio) * ay + lerp_ratio * by\n",
    "        newpath[3 * i + 2] = (1 - lerp_ratio) * az + lerp_ratio * bz\n",
    "        #print(i,current_timestep,target_distance, lerp_ratio)\n",
    "    return newpath"
   ]
  },
  {
   "cell_type": "code",
   "execution_count": 5,
   "metadata": {
    "collapsed": false
   },
   "outputs": [
    {
     "name": "stdout",
     "output_type": "stream",
     "text": [
      "0\n",
      "1000\n",
      "2000\n",
      "3000\n",
      "4000\n",
      "5000\n",
      "6000\n",
      "7000\n",
      "8000\n",
      "9000\n",
      "10000\n",
      "11000\n",
      "12000\n",
      "13000\n",
      "14000\n",
      "15000\n",
      "16000\n",
      "17000\n",
      "18000\n"
     ]
    }
   ],
   "source": [
    "repaths = rebase_paths(paths,300)\n"
   ]
  },
  {
   "cell_type": "code",
   "execution_count": 8,
   "metadata": {
    "collapsed": false
   },
   "outputs": [
    {
     "name": "stdout",
     "output_type": "stream",
     "text": [
      "0.2660989888238425\n"
     ]
    },
    {
     "data": {
      "text/plain": [
       "(5022, 5)"
      ]
     },
     "execution_count": 8,
     "metadata": {},
     "output_type": "execute_result"
    }
   ],
   "source": [
    "target = 5000\n",
    "p = target / np.shape(paths)[0]\n",
    "print(p)\n",
    "p = np.clip(p, 0, 1)\n",
    "mask = np.random.choice([False, True], len(indices), p=[1-p, p])\n",
    "ss_paths = paths[mask]\n",
    "ss_indices = indices[mask]\n",
    "ss_m = m[mask]\n",
    "np.shape(ss_m)"
   ]
  },
  {
   "cell_type": "code",
   "execution_count": 9,
   "metadata": {
    "collapsed": false
   },
   "outputs": [],
   "source": [
    "agglom = cluster.AgglomerativeClustering(n_clusters=50)\n",
    "labels = agglom.fit_predict(ss_m)"
   ]
  },
  {
   "cell_type": "code",
   "execution_count": null,
   "metadata": {
    "collapsed": false
   },
   "outputs": [],
   "source": [
    "agglom.children_"
   ]
  },
  {
   "cell_type": "code",
   "execution_count": null,
   "metadata": {
    "collapsed": false
   },
   "outputs": [],
   "source": [
    "dir(agglom)"
   ]
  },
  {
   "cell_type": "code",
   "execution_count": null,
   "metadata": {
    "collapsed": false
   },
   "outputs": [],
   "source": [
    "np.histogram(labels, 50)"
   ]
  },
  {
   "cell_type": "code",
   "execution_count": null,
   "metadata": {
    "collapsed": false
   },
   "outputs": [],
   "source": [
    "%matplotlib notebook\n",
    "import matplotlib.pyplot as plt\n",
    "from mpl_toolkits.mplot3d import Axes3D"
   ]
  },
  {
   "cell_type": "code",
   "execution_count": null,
   "metadata": {
    "collapsed": false
   },
   "outputs": [],
   "source": [
    "plt.scatter(ss_m[:,0], ss_m[:,1], c=labels)"
   ]
  },
  {
   "cell_type": "code",
   "execution_count": null,
   "metadata": {
    "collapsed": false,
    "scrolled": false
   },
   "outputs": [],
   "source": [
    "fig = plt.figure()\n",
    "ax = fig.add_subplot(111, projection='3d')\n",
    "ax.scatter(ss_m[:,0], ss_m[:,1], ss_m[:,2], s=10, c=labels)"
   ]
  },
  {
   "cell_type": "code",
   "execution_count": 11,
   "metadata": {
    "collapsed": false
   },
   "outputs": [],
   "source": [
    "labelmap = {}\n",
    "for i, label in enumerate(labels):\n",
    "    if labelmap.get(label, []) == []:\n",
    "        labelmap[label] = []\n",
    "    labelmap[label].append(ss_indices[i])"
   ]
  },
  {
   "cell_type": "code",
   "execution_count": null,
   "metadata": {
    "collapsed": false
   },
   "outputs": [],
   "source": [
    "labelmap[0][0]"
   ]
  },
  {
   "cell_type": "code",
   "execution_count": null,
   "metadata": {
    "collapsed": false
   },
   "outputs": [],
   "source": [
    "#Method for selecting 1 point from each cluster\n",
    "outlabels = [values[0] for label, values in labelmap.items()]\n",
    "outstr = '\\n'.join([str(int(v)) for v in outlabels])\n",
    "#print(outstr)"
   ]
  },
  {
   "cell_type": "code",
   "execution_count": null,
   "metadata": {
    "collapsed": false
   },
   "outputs": [],
   "source": [
    "#method for printing out clusterings (cluster id per line)\n",
    "outlabels = [(v, l) for l, vs in labelmap.items() for v in vs ]#for clusterings\n",
    "outstr = '\\n'.join([str(int(v)) + ' ' + str(int(l+1)) for v, l in outlabels])"
   ]
  },
  {
   "cell_type": "code",
   "execution_count": 12,
   "metadata": {
    "collapsed": false
   },
   "outputs": [],
   "source": [
    "#alternate method for printing clusterings (all members of a cluster on one line)\n",
    "outlabels = [' '.join([str(int(i)) for i in items]) for _,items in labelmap.items()]\n",
    "outstr = '\\n'.join(outlabels)"
   ]
  },
  {
   "cell_type": "code",
   "execution_count": 13,
   "metadata": {
    "collapsed": false
   },
   "outputs": [],
   "source": [
    "with open('pca-rebase-zero-new-5-3-.7-50.clusters', 'w') as f:\n",
    "    f.write(outstr)"
   ]
  },
  {
   "cell_type": "code",
   "execution_count": 15,
   "metadata": {
    "collapsed": false
   },
   "outputs": [
    {
     "data": {
      "text/plain": [
       "133"
      ]
     },
     "execution_count": 15,
     "metadata": {},
     "output_type": "execute_result"
    }
   ],
   "source": [
    "1700-400+1000-800+17000+700-1300+16333-4000-13500-6000-10600"
   ]
  },
  {
   "cell_type": "code",
   "execution_count": null,
   "metadata": {
    "collapsed": true
   },
   "outputs": [],
   "source": []
  }
 ],
 "metadata": {
  "anaconda-cloud": {},
  "kernelspec": {
   "display_name": "Python [Root]",
   "language": "python",
   "name": "Python [Root]"
  },
  "language_info": {
   "codemirror_mode": {
    "name": "ipython",
    "version": 3
   },
   "file_extension": ".py",
   "mimetype": "text/x-python",
   "name": "python",
   "nbconvert_exporter": "python",
   "pygments_lexer": "ipython3",
   "version": "3.5.2"
  }
 },
 "nbformat": 4,
 "nbformat_minor": 0
}
