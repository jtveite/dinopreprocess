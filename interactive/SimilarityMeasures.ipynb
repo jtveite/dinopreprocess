{
 "cells": [
  {
   "cell_type": "code",
   "execution_count": 1,
   "metadata": {
    "collapsed": true
   },
   "outputs": [],
   "source": [
    "import scipy as sp\n",
    "import numpy as np\n",
    "from sklearn import decomposition\n",
    "from sklearn import cluster\n",
    "import math"
   ]
  },
  {
   "cell_type": "code",
   "execution_count": 2,
   "metadata": {
    "collapsed": false
   },
   "outputs": [],
   "source": [
    "%run load_dino slices-1k.out"
   ]
  },
  {
   "cell_type": "code",
   "execution_count": null,
   "metadata": {
    "collapsed": false
   },
   "outputs": [],
   "source": [
    "paths"
   ]
  },
  {
   "cell_type": "code",
   "execution_count": 3,
   "metadata": {
    "collapsed": false
   },
   "outputs": [
    {
     "data": {
      "text/plain": [
       "(155, 144)"
      ]
     },
     "execution_count": 3,
     "metadata": {},
     "output_type": "execute_result"
    }
   ],
   "source": [
    "np.shape(paths)\n",
    "np.shape(paths)[0]\n",
    "filtered_data = filter_paths(dinodata, .01)\n",
    "indices = filtered_data[:,0]\n",
    "paths = filtered_data[:,1:]\n",
    "#reshape_to_distances(paths)\n",
    "np.shape(paths)"
   ]
  },
  {
   "cell_type": "code",
   "execution_count": 8,
   "metadata": {
    "collapsed": false
   },
   "outputs": [
    {
     "data": {
      "text/plain": [
       "array([-0.0585901, -0.1487129, -0.0759767, -0.0585901, -0.1487129,\n",
       "       -0.0759767, -0.0585826, -0.1486685, -0.0759976, -0.0582716,\n",
       "       -0.1484974, -0.0763963, -0.0598617, -0.1463887, -0.0773461,\n",
       "       -0.063814 , -0.1457315, -0.0767439, -0.0656988, -0.1467215,\n",
       "       -0.0757235, -0.0659368, -0.1471904, -0.0746798, -0.0651163,\n",
       "       -0.1475822, -0.0727445, -0.0639793, -0.1475616, -0.0701149,\n",
       "       -0.0623731, -0.1468268, -0.0668959, -0.0610947, -0.1457146,\n",
       "       -0.0630014, -0.0606281, -0.1447931, -0.0588304, -0.0604028,\n",
       "       -0.1441716, -0.0547372, -0.0603145, -0.1435453, -0.0514352,\n",
       "       -0.0603717, -0.1431932, -0.0500978, -0.0603163, -0.1429447,\n",
       "       -0.0491098, -0.0605114, -0.1426546, -0.0476489, -0.0608538,\n",
       "       -0.1423971, -0.0459701, -0.0610724, -0.1423277, -0.0449402,\n",
       "       -0.0611377, -0.1423492, -0.0446081, -0.061074 , -0.1424019,\n",
       "       -0.0446774, -0.0610497, -0.1422918, -0.0450713, -0.0610861,\n",
       "       -0.1419121, -0.0456675, -0.0610768, -0.1415571, -0.046166 ,\n",
       "       -0.0611033, -0.1411381, -0.0466368, -0.0611547, -0.1409517,\n",
       "       -0.0467754, -0.0612081, -0.1409438, -0.0465731, -0.0612907,\n",
       "       -0.1411745, -0.0457277, -0.0614338, -0.1412247, -0.0453485,\n",
       "       -0.0614018, -0.1412871, -0.0452191, -0.0613578, -0.1412514,\n",
       "       -0.0453073, -0.0614058, -0.1409872, -0.045643 , -0.0615004,\n",
       "       -0.1408755, -0.0458929, -0.0614959, -0.1408239, -0.0459636,\n",
       "       -0.0615514, -0.1406072, -0.0460266, -0.0615897, -0.140142 ,\n",
       "       -0.0464197, -0.061872 , -0.139529 , -0.0468509, -0.0622445,\n",
       "       -0.1388654, -0.0475224, -0.0628688, -0.1378381, -0.0483735,\n",
       "       -0.0641719, -0.1366307, -0.0497654, -0.0678134, -0.1358624,\n",
       "       -0.0531733, -0.0648248, -0.1369362, -0.0491811, -0.0636287,\n",
       "       -0.135902 , -0.0455572, -0.0635926, -0.1359321, -0.0451841,\n",
       "       -0.0635844, -0.1359547, -0.0449936, -0.0635993, -0.1359723,\n",
       "       -0.04483  , -0.063584 , -0.1359534, -0.0446341])"
      ]
     },
     "execution_count": 8,
     "metadata": {},
     "output_type": "execute_result"
    }
   ],
   "source": [
    "q = reshape_to_velocity(paths)\n",
    "q[0,:] - paths[0,:]"
   ]
  },
  {
   "cell_type": "code",
   "execution_count": null,
   "metadata": {
    "collapsed": false
   },
   "outputs": [],
   "source": [
    "(c, t, tt) = rescale_similarity_measures(curvature, torsion, tortuosity)"
   ]
  },
  {
   "cell_type": "code",
   "execution_count": null,
   "metadata": {
    "collapsed": false
   },
   "outputs": [],
   "source": [
    "similarity(ns, 3, 0)"
   ]
  },
  {
   "cell_type": "code",
   "execution_count": null,
   "metadata": {
    "collapsed": false
   },
   "outputs": [],
   "source": [
    "np.sum(tt > 0.01)"
   ]
  },
  {
   "cell_type": "code",
   "execution_count": 9,
   "metadata": {
    "collapsed": false
   },
   "outputs": [
    {
     "name": "stdout",
     "output_type": "stream",
     "text": [
      "48\n",
      "48\n"
     ]
    },
    {
     "name": "stderr",
     "output_type": "stream",
     "text": [
      "/Users/jtveite/anaconda3/lib/python3.5/site-packages/ipykernel/__main__.py:5: RuntimeWarning: invalid value encountered in true_divide\n",
      "/Users/jtveite/anaconda3/lib/python3.5/site-packages/ipykernel/__main__.py:6: RuntimeWarning: invalid value encountered in true_divide\n"
     ]
    }
   ],
   "source": [
    "\n",
    "(curvature, torsion, tortuosity) = get_similarity_measures(paths)\n",
    "(c, t, tt) = rescale_similarity_measures(curvature, torsion, tortuosity)\n",
    "sigs = generateSignatures(c, t, tt)"
   ]
  },
  {
   "cell_type": "code",
   "execution_count": 5,
   "metadata": {
    "collapsed": true
   },
   "outputs": [],
   "source": [
    "def get_similarity_measures(paths):\n",
    "    velocity = reshape_to_velocity(paths)\n",
    "    acceleration = reshape_to_acceleration(paths)\n",
    "    v_cross_a = cross_matrix(velocity, acceleration)\n",
    "    curvature = np.divide(magnitude_power(v_cross_a, 1), magnitude_power(velocity, 3))\n",
    "    torsion = np.divide( dot_matrix(v_cross_a, reshape_to_derivative(acceleration)), magnitude_power(v_cross_a, 2))\n",
    "    tortuosity = compute_tortuosity(paths)\n",
    "    return (curvature, torsion, tortuosity)\n",
    "\n",
    "def rescale_similarity_measures(curvature, torsion, tortuosity):\n",
    "    for i in range(np.shape(curvature)[0]):\n",
    "        for j in range(np.shape(curvature)[1]):\n",
    "            if np.isnan(curvature[i,j]):\n",
    "                curvature[i,j] = 0.0\n",
    "    for i in range(np.shape(torsion)[0]):\n",
    "        for j in range(np.shape(torsion)[1]):\n",
    "            if np.isnan(torsion[i,j]):\n",
    "                torsion[i,j] = 0.0\n",
    "    c = curvature / np.max(curvature)\n",
    "    t = torsion / np.max(torsion)\n",
    "    tt =tortuosity / np.max(tortuosity)\n",
    "    return (c, t, tt)\n",
    "\n",
    "def generateSignatures(c, t, tt):\n",
    "    out = np.zeros(np.shape(c));\n",
    "    for i in range(np.shape(c)[0]):\n",
    "        for j in range(np.shape(c)[1]):\n",
    "            out[i,j] = c[i,j] + t[i,j] + tt[i]\n",
    "    return out\n",
    "\n",
    "def similarity(sigs, i, j):\n",
    "    sim = 0\n",
    "    for b in range(np.shape(sigs)[1]):\n",
    "        num = math.pow(sigs[i,b] - sigs[j,b], 2)\n",
    "        denom = sigs[i,b] + sigs[j,b]\n",
    "        sim += (num / denom)\n",
    "    return sim\n",
    "    "
   ]
  },
  {
   "cell_type": "code",
   "execution_count": 6,
   "metadata": {
    "collapsed": false
   },
   "outputs": [],
   "source": [
    "def compute_tortuosity(paths):\n",
    "    timesteps = int(math.floor(np.shape(paths)[1]/3))\n",
    "    out = []\n",
    "    for i in range(np.shape(paths)[0]):\n",
    "        total_distance = get_path_length(paths[i,:])\n",
    "        dx = paths[i, 0] - paths[i, timesteps * 3 - 3]\n",
    "        dy = paths[i, 1] - paths[i, timesteps * 3 - 2]\n",
    "        dz = paths[i, 2] - paths[i, timesteps * 3 - 1]\n",
    "        shortest_distance = math.sqrt(dx ** 2 + dy ** 2 + dz ** 2)\n",
    "        out.append(total_distance / shortest_distance)\n",
    "    return out\n",
    "\n",
    "\n",
    "def dot_matrix(a, b):\n",
    "    timesteps = int(math.floor(np.shape(a)[1]/3))\n",
    "    print(timesteps)\n",
    "    out = np.zeros([np.shape(a)[0], timesteps])\n",
    "    for i in range(np.shape(a)[0]):\n",
    "        for j in range(timesteps):\n",
    "            out[i, j] = a[i, 3*j] * b[i, 3*j] + a[i, 3*j+1] * b[i, 3*j+1] + a[i, 3*j+2] * b[i, 3*j+2]\n",
    "    return out\n",
    "\n",
    "def magnitude_power(matrix, power):\n",
    "    timesteps = int(math.floor(np.shape(matrix)[1]/3))\n",
    "    out = np.zeros([np.shape(matrix)[0], timesteps])\n",
    "    for i in range(np.shape(matrix)[0]):\n",
    "        for j in range(timesteps):\n",
    "            base = matrix[i, 3*j] ** 2 + matrix[i, 3*j+1] ** 2 + matrix[i, 3*j+2] ** 2\n",
    "            out[i, j] = math.pow(math.sqrt(base), power)\n",
    "    return out\n",
    "            \n",
    "\n",
    "#computes cross product between matrix a and b, pointwise \n",
    "#THESE SHOULD BE THE SAME SIZE \n",
    "def cross_matrix(a,b):\n",
    "    timesteps = int(math.floor(np.shape(a)[1]/3))\n",
    "    print(timesteps)\n",
    "    out = np.zeros(np.shape(a))\n",
    "    for i in range(np.shape(a)[0]):\n",
    "        for j in range(timesteps):\n",
    "            out[i, 3*j] = a[i, 3*j+1] * b[i, 3*j+2] - a[i, 3*j+2] * b[i, 3*j+1]\n",
    "            out[i, 3*j + 1] = a[i, 3*j+2] * b[i, 3*j+0] - a[i, 3*j+0] * b[i, 3*j+2]\n",
    "            out[i, 3*j + 2] = a[i, 3*j+0] * b[i, 3*j+1] - a[i, 3*j+1] * b[i, 3*j+0]\n",
    "    return out\n",
    "    \n",
    "#Computes something vaguely like a derivative \n",
    "def reshape_to_derivative(paths):\n",
    "    timesteps = int(math.floor(np.shape(paths)[1] / 3))\n",
    "    newpaths = np.copy(paths)\n",
    "    for i in range(np.shape(paths)[0]):      \n",
    "        newpaths[i, 0] = 0\n",
    "        newpaths[i, 1] = 0\n",
    "        newpaths[i, 2] = 0\n",
    "        for j in range(timesteps - 1):\n",
    "            newpaths[i,3*j+3] -= paths[i, 3*j]\n",
    "            newpaths[i,3*j+4] -= paths[i, 3*j+1]\n",
    "            newpaths[i,3*j+5] -= paths[i, 3*j+2]\n",
    "    return newpaths\n",
    "\n",
    "def reshape_to_velocity(paths):\n",
    "    return reshape_to_derivative(paths)\n",
    "\n",
    "def reshape_to_acceleration(paths):\n",
    "    return reshape_to_derivative(reshape_to_derivative(paths))"
   ]
  },
  {
   "cell_type": "code",
   "execution_count": 7,
   "metadata": {
    "collapsed": false
   },
   "outputs": [],
   "source": [
    "def rebase_paths(paths, sigs, number_of_steps = 100):\n",
    "    newpaths = np.empty((np.shape(paths)[0], number_of_steps))\n",
    "    for i in range(np.shape(paths)[0]):\n",
    "        if i % 1000 == 0:\n",
    "            print(i)\n",
    "        newpaths[i,:] = rebase_path(paths[i,:], sigs[i,:], number_of_steps)\n",
    "    return newpaths\n",
    "\n",
    "#Converts a path from list of points (at timesteps) to list of points (evenly distributed along the path)\n",
    "def rebase_path(path, sigs,  number_of_steps = 100):\n",
    "    total_length = get_path_length(path)\n",
    "    timesteps = int(math.floor(np.shape(paths)[1] / 3))\n",
    "    newpath = np.zeros(number_of_steps)\n",
    "    current_timestep = 0\n",
    "    current_distance = 0\n",
    "    next_timestep_distance = 0\n",
    "    last_timestep_distance = 0\n",
    "    for i in range(number_of_steps):\n",
    "        target_distance = i * 1.0 / number_of_steps * total_length\n",
    "        next_timestep = current_timestep + 1\n",
    "        total_value = 0\n",
    "        steps_hit = 0\n",
    "        #First we check to see which 2 points it's in between (current_timestep and next_timestep)\n",
    "        while next_timestep_distance < target_distance:\n",
    "            j = next_timestep\n",
    "            if (j >= timesteps - 1):\n",
    "                break\n",
    "            next_timestep +=1\n",
    "            last_timestep_distance = next_timestep_distance\n",
    "            dx = path[3*j+3] - path[3*j]\n",
    "            dy = path[3*j+4] - path[3*j+1]\n",
    "            dz = path[3*j+5] - path[3*j+2]\n",
    "            next_timestep_distance += math.sqrt(dx ** 2 + dy ** 2 + dz ** 2)\n",
    "            total_value += sigs[j]\n",
    "            steps_hit += 1\n",
    "        current_timestep = next_timestep - 1\n",
    "        if steps_hit > 0:\n",
    "            newpath[i] = total_value / steps_hit\n",
    "        else:\n",
    "            newpath[i] = sigs[current_timestep]\n",
    "        #Now figure out how far between them it is\n",
    "        #j = current_timestep\n",
    "        #a = sigs[j]\n",
    "        #b = sigs[j+1]\n",
    "        #try:\n",
    "        #    lerp_ratio = (target_distance - last_timestep_distance) / (next_timestep_distance - last_timestep_distance)\n",
    "        #except:\n",
    "        #    lerp_ratio = 0\n",
    "        #lerp_ratio = np.clip(lerp_ratio, 0, 1)\n",
    "        #newpath[i] = (1 - lerp_ratio) * a + lerp_ratio * b\n",
    "        #print(i,current_timestep,target_distance, lerp_ratio)\n",
    "    return newpath"
   ]
  },
  {
   "cell_type": "code",
   "execution_count": null,
   "metadata": {
    "collapsed": false
   },
   "outputs": [],
   "source": [
    "#repaths = rebase_paths(paths,300)\n",
    "a = np.ones([3,6])\n",
    "b = np.array([0.5, 3, 1, 3, 4,6,3,4,5]*6).reshape([-1, 9])\n",
    "c = compute_tortuosity(b)\n",
    "c"
   ]
  },
  {
   "cell_type": "code",
   "execution_count": 10,
   "metadata": {
    "collapsed": false
   },
   "outputs": [
    {
     "name": "stdout",
     "output_type": "stream",
     "text": [
      "1.0\n"
     ]
    },
    {
     "data": {
      "text/plain": [
       "(155, 48)"
      ]
     },
     "execution_count": 10,
     "metadata": {},
     "output_type": "execute_result"
    }
   ],
   "source": [
    "target = 5000\n",
    "p = target / np.shape(paths)[0]\n",
    "p = np.clip(p, 0, 1)\n",
    "print(p)\n",
    "mask = np.random.choice([False, True], len(indices), p=[1-p, p])\n",
    "ss_paths = paths[mask]\n",
    "ss_indices = indices[mask]\n",
    "ss_sigs = sigs[mask]\n",
    "#ss_m = m[mask]\n",
    "#np.shape(ss_m)\n",
    "np.shape(ss_sigs)"
   ]
  },
  {
   "cell_type": "code",
   "execution_count": 11,
   "metadata": {
    "collapsed": false
   },
   "outputs": [
    {
     "name": "stdout",
     "output_type": "stream",
     "text": [
      "48\n",
      "48\n"
     ]
    },
    {
     "name": "stderr",
     "output_type": "stream",
     "text": [
      "/Users/jtveite/anaconda3/lib/python3.5/site-packages/ipykernel/__main__.py:5: RuntimeWarning: invalid value encountered in true_divide\n",
      "/Users/jtveite/anaconda3/lib/python3.5/site-packages/ipykernel/__main__.py:6: RuntimeWarning: invalid value encountered in true_divide\n"
     ]
    }
   ],
   "source": [
    "(curvature, torsion, tortuosity) = get_similarity_measures(ss_paths)\n",
    "(c, t, tt) = rescale_similarity_measures(curvature, torsion, tortuosity)\n",
    "sigs = generateSignatures(c, t, tt)"
   ]
  },
  {
   "cell_type": "code",
   "execution_count": 15,
   "metadata": {
    "collapsed": false
   },
   "outputs": [
    {
     "name": "stdout",
     "output_type": "stream",
     "text": [
      "10000 loops, best of 3: 109 µs per loop\n"
     ]
    }
   ],
   "source": [
    "%timeit similarity(new_sigs, 5, 10)"
   ]
  },
  {
   "cell_type": "code",
   "execution_count": 14,
   "metadata": {
    "collapsed": false,
    "scrolled": true
   },
   "outputs": [
    {
     "name": "stdout",
     "output_type": "stream",
     "text": [
      "0\n"
     ]
    },
    {
     "data": {
      "text/plain": [
       "(155, 100)"
      ]
     },
     "execution_count": 14,
     "metadata": {},
     "output_type": "execute_result"
    }
   ],
   "source": [
    "new_sigs = rebase_paths(paths, sigs, 100)\n",
    "new_sigs.shape"
   ]
  },
  {
   "cell_type": "code",
   "execution_count": null,
   "metadata": {
    "collapsed": false
   },
   "outputs": [],
   "source": [
    "num_elements = sigs.shape[0]\n",
    "simat = np.zeros([num_elements, num_elements])\n",
    "for i in range(num_elements):\n",
    "    if i % 50 == 0:\n",
    "        print(i)\n",
    "    for j in range(i, num_elements):\n",
    "        val = similarity(new_sigs, i, j)\n",
    "        simat[i,j] = val\n",
    "        simat[j,i] = val"
   ]
  },
  {
   "cell_type": "code",
   "execution_count": null,
   "metadata": {
    "collapsed": false
   },
   "outputs": [],
   "source": [
    "agglom = cluster.AgglomerativeClustering(n_clusters=50, affinity='precomputed', linkage='complete')\n",
    "labels = agglom.fit_predict(simat)"
   ]
  },
  {
   "cell_type": "code",
   "execution_count": null,
   "metadata": {
    "collapsed": false
   },
   "outputs": [],
   "source": [
    "agglom.children_"
   ]
  },
  {
   "cell_type": "code",
   "execution_count": null,
   "metadata": {
    "collapsed": false
   },
   "outputs": [],
   "source": [
    "labels"
   ]
  },
  {
   "cell_type": "code",
   "execution_count": null,
   "metadata": {
    "collapsed": false
   },
   "outputs": [],
   "source": [
    "np.histogram(labels, 20)"
   ]
  },
  {
   "cell_type": "code",
   "execution_count": null,
   "metadata": {
    "collapsed": false
   },
   "outputs": [],
   "source": [
    "%matplotlib notebook\n",
    "import matplotlib.pyplot as plt\n",
    "from mpl_toolkits.mplot3d import Axes3D"
   ]
  },
  {
   "cell_type": "code",
   "execution_count": null,
   "metadata": {
    "collapsed": false
   },
   "outputs": [],
   "source": [
    "plt.scatter(ss_m[:,0], ss_m[:,1], c=labels)"
   ]
  },
  {
   "cell_type": "code",
   "execution_count": null,
   "metadata": {
    "collapsed": false,
    "scrolled": false
   },
   "outputs": [],
   "source": [
    "fig = plt.figure()\n",
    "ax = fig.add_subplot(111, projection='3d')\n",
    "ax.scatter(ss_paths[:,0], ss_paths[:,1], ss_paths[:,2], s=10, c=labels)"
   ]
  },
  {
   "cell_type": "code",
   "execution_count": null,
   "metadata": {
    "collapsed": false
   },
   "outputs": [],
   "source": [
    "labelmap = {}\n",
    "for i, label in enumerate(labels):\n",
    "    if labelmap.get(label, []) == []:\n",
    "        labelmap[label] = []\n",
    "    labelmap[label].append(indices[i])"
   ]
  },
  {
   "cell_type": "code",
   "execution_count": null,
   "metadata": {
    "collapsed": false
   },
   "outputs": [],
   "source": [
    "labelmap[0][0]"
   ]
  },
  {
   "cell_type": "code",
   "execution_count": null,
   "metadata": {
    "collapsed": false
   },
   "outputs": [],
   "source": [
    "#Method for selecting 1 point from each cluster\n",
    "outlabels = [values[0] for label, values in labelmap.items()]\n",
    "outstr = '\\n'.join([str(int(v)) for v in outlabels])\n",
    "#print(outstr)"
   ]
  },
  {
   "cell_type": "code",
   "execution_count": null,
   "metadata": {
    "collapsed": false
   },
   "outputs": [],
   "source": [
    "#method for printing out clusterings (cluster id per line)\n",
    "outlabels = [(v, l) for l, vs in labelmap.items() for v in vs ]#for clusterings\n",
    "outstr = '\\n'.join([str(int(v)) + ' ' + str(int(l+1)) for v, l in outlabels])"
   ]
  },
  {
   "cell_type": "code",
   "execution_count": null,
   "metadata": {
    "collapsed": false
   },
   "outputs": [],
   "source": [
    "#alternate method for printing clusterings (all members of a cluster on one line)\n",
    "outlabels = [' '.join([str(int(i)) for i in items]) for _,items in labelmap.items()]\n",
    "outstr = '\\n'.join(outlabels)"
   ]
  },
  {
   "cell_type": "code",
   "execution_count": null,
   "metadata": {
    "collapsed": false
   },
   "outputs": [],
   "source": [
    "with open('sim-s68-20-50.clusters', 'w') as f:\n",
    "    f.write(outstr)"
   ]
  },
  {
   "cell_type": "code",
   "execution_count": null,
   "metadata": {
    "collapsed": true
   },
   "outputs": [],
   "source": []
  }
 ],
 "metadata": {
  "anaconda-cloud": {},
  "kernelspec": {
   "display_name": "Python [Root]",
   "language": "python",
   "name": "Python [Root]"
  },
  "language_info": {
   "codemirror_mode": {
    "name": "ipython",
    "version": 3
   },
   "file_extension": ".py",
   "mimetype": "text/x-python",
   "name": "python",
   "nbconvert_exporter": "python",
   "pygments_lexer": "ipython3",
   "version": "3.5.2"
  }
 },
 "nbformat": 4,
 "nbformat_minor": 0
}
